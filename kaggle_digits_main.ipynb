{
 "cells": [
  {
   "cell_type": "markdown",
   "metadata": {},
   "source": [
    "# Digit Recognizer\n"
   ]
  },
  {
   "cell_type": "code",
   "execution_count": 1,
   "metadata": {},
   "outputs": [],
   "source": [
    "import pandas as pd\n",
    "import numpy as np\n",
    "import matplotlib.pyplot as plt\n",
    "from sklearn.preprocessing import StandardScaler\n",
    "from sklearn.model_selection import train_test_split\n",
    "from sklearn.svm import SVC\n",
    "from sklearn.metrics import classification_report, confusion_matrix\n",
    "import torch\n",
    "import torch.nn as nn\n",
    "import torch.optim as optim\n",
    "from torch.utils.data import DataLoader\n",
    "from torch.utils.data import TensorDataset"
   ]
  },
  {
   "cell_type": "markdown",
   "metadata": {},
   "source": [
    "# Data Loading"
   ]
  },
  {
   "cell_type": "code",
   "execution_count": 2,
   "metadata": {},
   "outputs": [
    {
     "data": {
      "image/png": "[encoded data removed]",
      "text/plain": [
       "<Figure size 640x480 with 10 Axes>"
      ]
     },
     "metadata": {},
     "output_type": "display_data"
    }
   ],
   "source": [
    "# read the train file\n",
    "df = pd.read_csv('train.csv')\n",
    "\n",
    "# split the data into features and labels\n",
    "X = df.drop('label', axis=1)\n",
    "y = df['label']\n",
    "\n",
    "# split the data into training and testing sets\n",
    "X_train, X_test, y_train, y_test = train_test_split(X, y, test_size=0.2, random_state=42)\n",
    "\n",
    "# scale the data\n",
    "scaler = StandardScaler()\n",
    "X_train = scaler.fit_transform(X_train)\n",
    "X_test = scaler.transform(X_test)\n",
    "\n",
    "# display 1 example from each class\n",
    "fig, ax = plt.subplots(2, 5)\n",
    "for i in range(10):\n",
    "    ax[i//5, i%5].imshow(X_train[y_train == i][0].reshape(28, 28), cmap='gray')\n",
    "    ax[i//5, i%5].set_title(f'Class {i}')\n",
    "    ax[i//5, i%5].axis('off')\n",
    "plt.show()"
   ]
  },
  {
   "cell_type": "code",
   "execution_count": 3,
   "metadata": {},
   "outputs": [
    {
     "name": "stdout",
     "output_type": "stream",
     "text": [
      "Training data shape: (33600, 784)\n",
      "Testing data shape: (8400, 784)\n",
      "Test data shape: (28000, 784)\n"
     ]
    }
   ],
   "source": [
    "# read the test file\n",
    "test = pd.read_csv('test.csv')\n",
    "\n",
    "# scale the test data\n",
    "test = scaler.transform(test)\n",
    "\n",
    "# print the shape of the data\n",
    "print(f'Training data shape: {X_train.shape}')\n",
    "print(f'Testing data shape: {X_test.shape}')\n",
    "print(f'Test data shape: {test.shape}')"
   ]
  },
  {
   "cell_type": "markdown",
   "metadata": {},
   "source": [
    "# Support Vector Classification"
   ]
  },
  {
   "cell_type": "code",
   "execution_count": 4,
   "metadata": {},
   "outputs": [
    {
     "name": "stdout",
     "output_type": "stream",
     "text": [
      "[[801   0   3   0   1   3   7   0   1   0]\n",
      " [  0 892   8   1   1   1   1   2   2   1]\n",
      " [  2   6 820   3   4   0   4   2   5   0]\n",
      " [  1   3  11 885   0  11   0   9  12   5]\n",
      " [  1   0  11   0 805   1   5   4   0  12]\n",
      " [  2   1   8  14   1 663  10   1   2   0]\n",
      " [  5   1  11   0   0   6 760   0   2   0]\n",
      " [  0   2  12   3   5   2   0 854   1  14]\n",
      " [  1   4   9  10   4  10   4   2 789   2]\n",
      " [  2   2   7  12   7   3   0  19   4 782]]\n",
      "              precision    recall  f1-score   support\n",
      "\n",
      "           0       0.98      0.98      0.98       816\n",
      "           1       0.98      0.98      0.98       909\n",
      "           2       0.91      0.97      0.94       846\n",
      "           3       0.95      0.94      0.95       937\n",
      "           4       0.97      0.96      0.97       839\n",
      "           5       0.95      0.94      0.95       702\n",
      "           6       0.96      0.97      0.96       785\n",
      "           7       0.96      0.96      0.96       893\n",
      "           8       0.96      0.94      0.95       835\n",
      "           9       0.96      0.93      0.95       838\n",
      "\n",
      "    accuracy                           0.96      8400\n",
      "   macro avg       0.96      0.96      0.96      8400\n",
      "weighted avg       0.96      0.96      0.96      8400\n",
      "\n"
     ]
    }
   ],
   "source": [
    "# train the model\n",
    "model = SVC()\n",
    "model.fit(X_train, y_train)\n",
    "\n",
    "# evaluate the model\n",
    "predictions = model.predict(X_test)\n",
    "print(confusion_matrix(y_test, predictions))\n",
    "print(classification_report(y_test, predictions))"
   ]
  },
  {
   "cell_type": "code",
   "execution_count": 5,
   "metadata": {},
   "outputs": [],
   "source": [
    "# predict the labels\n",
    "predictions = model.predict(test)\n",
    "\n",
    "# write the predictions to a csv file\n",
    "submission = pd.DataFrame({'ImageId': range(1, len(predictions)+1), 'Label': predictions})\n",
    "submission.to_csv('submission_svc.csv', index=False)"
   ]
  },
  {
   "cell_type": "markdown",
   "metadata": {},
   "source": [
    "#### Acc: 0.95825"
   ]
  },
  {
   "cell_type": "markdown",
   "metadata": {},
   "source": [
    "# NN"
   ]
  },
  {
   "cell_type": "code",
   "execution_count": 6,
   "metadata": {},
   "outputs": [],
   "source": [
    "# convert the data to tensors\n",
    "X_train = torch.tensor(X_train, dtype=torch.float32)\n",
    "y_train = torch.tensor(y_train.values, dtype=torch.int64)\n",
    "X_test = torch.tensor(X_test, dtype=torch.float32)\n",
    "y_test = torch.tensor(y_test.values, dtype=torch.int64)\n",
    "\n",
    "# create a dataset\n",
    "train_dataset = TensorDataset(X_train, y_train)\n",
    "test_dataset = TensorDataset(X_test, y_test)\n",
    "\n",
    "# create a dataloader\n",
    "train_loader = DataLoader(train_dataset, batch_size=64, shuffle=True)\n",
    "test_loader = DataLoader(test_dataset, batch_size=64, shuffle=False)"
   ]
  },
  {
   "cell_type": "code",
   "execution_count": 7,
   "metadata": {},
   "outputs": [
    {
     "name": "stdout",
     "output_type": "stream",
     "text": [
      "Accuracy: 0.9685714285714285\n",
      "[[797   0   4   1   0   3   6   3   1   1]\n",
      " [  0 895   3   0   0   1   0   5   5   0]\n",
      " [  2   6 811   2   6   1   3   4   8   3]\n",
      " [  1   0   5 898   0  11   0   6  11   5]\n",
      " [  2   1   1   0 810   3   7   4   1  10]\n",
      " [  1   1   0  10   1 677   3   1   4   4]\n",
      " [  2   1   1   0   1  11 765   1   3   0]\n",
      " [  0   0   4   4   5   2   0 870   1   7]\n",
      " [  0   3   3   7   2   8   2   2 805   3]\n",
      " [  1   1   0   5   9   3   0   8   3 808]]\n",
      "              precision    recall  f1-score   support\n",
      "\n",
      "           0       0.99      0.98      0.98       816\n",
      "           1       0.99      0.98      0.99       909\n",
      "           2       0.97      0.96      0.97       846\n",
      "           3       0.97      0.96      0.96       937\n",
      "           4       0.97      0.97      0.97       839\n",
      "           5       0.94      0.96      0.95       702\n",
      "           6       0.97      0.97      0.97       785\n",
      "           7       0.96      0.97      0.97       893\n",
      "           8       0.96      0.96      0.96       835\n",
      "           9       0.96      0.96      0.96       838\n",
      "\n",
      "    accuracy                           0.97      8400\n",
      "   macro avg       0.97      0.97      0.97      8400\n",
      "weighted avg       0.97      0.97      0.97      8400\n",
      "\n"
     ]
    }
   ],
   "source": [
    "class Net(nn.Module):\n",
    "    def __init__(self):\n",
    "        super(Net, self).__init__()\n",
    "        self.fc1 = nn.Linear(784, 128)\n",
    "        self.fc2 = nn.Linear(128, 10)\n",
    "        \n",
    "    def forward(self, x):\n",
    "        x = torch.relu(self.fc1(x))\n",
    "        x = self.fc2(x)\n",
    "        return x\n",
    "    \n",
    "model = Net()\n",
    "\n",
    "# define the loss function and the optimizer\n",
    "criterion = nn.CrossEntropyLoss()\n",
    "optimizer = optim.Adam(model.parameters())\n",
    "\n",
    "# train the model\n",
    "for epoch in range(10):\n",
    "    for X_batch, y_batch in train_loader:\n",
    "        optimizer.zero_grad()\n",
    "        output = model(X_batch)\n",
    "        loss = criterion(output, y_batch)\n",
    "        loss.backward()\n",
    "        optimizer.step()\n",
    "\n",
    "# evaluate the model\n",
    "model.eval()\n",
    "\n",
    "correct = 0\n",
    "total = 0\n",
    "with torch.no_grad():\n",
    "    for X_batch, y_batch in test_loader:\n",
    "        output = model(X_batch)\n",
    "        _, predicted = torch.max(output, 1)\n",
    "        total += y_batch.size(0)\n",
    "        correct += (predicted == y_batch).sum().item()\n",
    "\n",
    "print(f'Accuracy: {correct/total}')\n",
    "\n",
    "# print confusion matrix and classification report\n",
    "y_pred = []\n",
    "y_true = []\n",
    "\n",
    "with torch.no_grad():\n",
    "    for X_batch, y_batch in test_loader:\n",
    "        output = model(X_batch)\n",
    "        _, predicted = torch.max(output, 1)\n",
    "        y_pred.extend(predicted.numpy())\n",
    "        y_true.extend(y_batch.numpy())\n",
    "\n",
    "print(confusion_matrix(y_true, y_pred))\n",
    "print(classification_report(y_true, y_pred))"
   ]
  },
  {
   "cell_type": "code",
   "execution_count": 8,
   "metadata": {},
   "outputs": [],
   "source": [
    "test_nn = torch.tensor(test, dtype=torch.float32)\n",
    "predictions = model(test_nn)\n",
    "_, predictions = torch.max(predictions, 1)\n",
    "\n",
    "submission = pd.DataFrame({'ImageId': range(1, len(predictions)+1), 'Label': predictions})\n",
    "submission.to_csv('submission_nn.csv', index=False)"
   ]
  },
  {
   "cell_type": "markdown",
   "metadata": {},
   "source": [
    "#### Acc: 0.96557"
   ]
  },
  {
   "cell_type": "markdown",
   "metadata": {},
   "source": [
    "# NN with dropout"
   ]
  },
  {
   "cell_type": "code",
   "execution_count": 9,
   "metadata": {},
   "outputs": [
    {
     "name": "stdout",
     "output_type": "stream",
     "text": [
      "Accuracy: 0.9701190476190477\n",
      "[[799   0   2   2   1   2   5   1   3   1]\n",
      " [  0 896   2   1   1   0   2   1   5   1]\n",
      " [  0   7 812   3   7   1   5   3   7   1]\n",
      " [  1   1   2 901   0  12   0   4  10   6]\n",
      " [  1   0   0   0 822   1   7   0   0   8]\n",
      " [  1   0   0   9   1 681   7   0   2   1]\n",
      " [  3   1   0   0   5   1 772   0   3   0]\n",
      " [  0   4   4   4   7   1   0 857   2  14]\n",
      " [  0   3   4   7   5   4   2   2 806   2]\n",
      " [  1   1   1   5  14   4   0   7   2 803]]\n",
      "              precision    recall  f1-score   support\n",
      "\n",
      "           0       0.99      0.98      0.99       816\n",
      "           1       0.98      0.99      0.98       909\n",
      "           2       0.98      0.96      0.97       846\n",
      "           3       0.97      0.96      0.96       937\n",
      "           4       0.95      0.98      0.97       839\n",
      "           5       0.96      0.97      0.97       702\n",
      "           6       0.96      0.98      0.97       785\n",
      "           7       0.98      0.96      0.97       893\n",
      "           8       0.96      0.97      0.96       835\n",
      "           9       0.96      0.96      0.96       838\n",
      "\n",
      "    accuracy                           0.97      8400\n",
      "   macro avg       0.97      0.97      0.97      8400\n",
      "weighted avg       0.97      0.97      0.97      8400\n",
      "\n"
     ]
    }
   ],
   "source": [
    "class Net(nn.Module):\n",
    "    def __init__(self):\n",
    "        super(Net, self).__init__()\n",
    "        self.fc1 = nn.Linear(784, 256)\n",
    "        self.fc2 = nn.Linear(256, 128)\n",
    "        self.fc3 = nn.Linear(128, 10)\n",
    "        self.dropout = nn.Dropout(0.2)\n",
    "        \n",
    "    def forward(self, x):\n",
    "        x = torch.relu(self.fc1(x))\n",
    "        x = self.dropout(x)\n",
    "        x = torch.relu(self.fc2(x))\n",
    "        x = self.dropout(x)\n",
    "        x = self.fc3(x)\n",
    "        return x\n",
    "    \n",
    "model = Net()\n",
    "\n",
    "# define the loss function and the optimizer\n",
    "criterion = nn.CrossEntropyLoss()\n",
    "optimizer = optim.Adam(model.parameters())\n",
    "\n",
    "# train the model\n",
    "for epoch in range(10):\n",
    "    for X_batch, y_batch in train_loader:\n",
    "        optimizer.zero_grad()\n",
    "        output = model(X_batch)\n",
    "        loss = criterion(output, y_batch)\n",
    "        loss.backward()\n",
    "        optimizer.step()\n",
    "\n",
    "# evaluate the model\n",
    "model.eval()\n",
    "\n",
    "correct = 0\n",
    "total = 0\n",
    "\n",
    "with torch.no_grad():\n",
    "    for X_batch, y_batch in test_loader:\n",
    "        output = model(X_batch)\n",
    "        _, predicted = torch.max(output, 1)\n",
    "        total += y_batch.size(0)\n",
    "        correct += (predicted == y_batch).sum().item()\n",
    "\n",
    "print(f'Accuracy: {correct/total}')\n",
    "\n",
    "# print confusion matrix and classification report\n",
    "y_pred = []\n",
    "y_true = []\n",
    "\n",
    "with torch.no_grad():\n",
    "    for X_batch, y_batch in test_loader:\n",
    "        output = model(X_batch)\n",
    "        _, predicted = torch.max(output, 1)\n",
    "        y_pred.extend(predicted.numpy())\n",
    "        y_true.extend(y_batch.numpy())\n",
    "\n",
    "print(confusion_matrix(y_true, y_pred))\n",
    "print(classification_report(y_true, y_pred))\n"
   ]
  },
  {
   "cell_type": "code",
   "execution_count": 10,
   "metadata": {},
   "outputs": [],
   "source": [
    "\n",
    "test_nn = torch.tensor(test, dtype=torch.float32)\n",
    "predictions = model(test_nn)\n",
    "\n",
    "_, predictions = torch.max(predictions, 1)\n",
    "\n",
    "submission = pd.DataFrame({'ImageId': range(1, len(predictions)+1), 'Label': predictions})\n",
    "submission.to_csv('submission_nn2.csv', index=False)"
   ]
  },
  {
   "cell_type": "markdown",
   "metadata": {},
   "source": [
    "#### Acc: 0.96825"
   ]
  }
 ],
 "metadata": {
  "kernelspec": {
   "display_name": "Python 3",
   "language": "python",
   "name": "python3"
  },
  "language_info": {
   "codemirror_mode": {
    "name": "ipython",
    "version": 3
   },
   "file_extension": ".py",
   "mimetype": "text/x-python",
   "name": "python",
   "nbconvert_exporter": "python",
   "pygments_lexer": "ipython3",
   "version": "3.11.9"
  }
 },
 "nbformat": 4,
 "nbformat_minor": 2
}
